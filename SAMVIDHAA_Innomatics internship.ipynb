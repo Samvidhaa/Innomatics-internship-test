{
 "cells": [
  {
   "cell_type": "code",
   "execution_count": 1,
   "id": "785dfecb",
   "metadata": {},
   "outputs": [],
   "source": [
    "import matplotlib.pyplot as plt"
   ]
  },
  {
   "cell_type": "code",
   "execution_count": 2,
   "id": "7db9a4ef",
   "metadata": {},
   "outputs": [
    {
     "name": "stdout",
     "output_type": "stream",
     "text": [
      "Shape of the DataFrame movies: (9742, 3)\n"
     ]
    }
   ],
   "source": [
    "import pandas as pd\n",
    "\n",
    "file_path = r\"C:\\Users\\samvi\\OneDrive\\Desktop\\samvidhaa\\movie_data\\movies.csv\"\n",
    "\n",
    "# Load the CSV file into a DataFrame\n",
    "df = pd.read_csv(file_path)\n",
    "\n",
    "# Display the shape of the DataFrame\n",
    "print(\"Shape of the DataFrame movies:\", df.shape)\n"
   ]
  },
  {
   "cell_type": "code",
   "execution_count": 3,
   "id": "393588fd",
   "metadata": {},
   "outputs": [
    {
     "name": "stdout",
     "output_type": "stream",
     "text": [
      "Shape of the DataFrame ratings: (9742, 3)\n"
     ]
    }
   ],
   "source": [
    "\n",
    "file_path2 = r\"C:\\Users\\samvi\\OneDrive\\Desktop\\samvidhaa\\movie_data\\ratings.csv\"\n",
    "\n",
    "# Load the CSV file into a DataFrame\n",
    "df2 = pd.read_csv(file_path2)\n",
    "\n",
    "# Display the shape of the DataFrame\n",
    "print(\"Shape of the DataFrame ratings:\", df.shape)"
   ]
  },
  {
   "cell_type": "code",
   "execution_count": 4,
   "id": "2dcbd5da",
   "metadata": {},
   "outputs": [
    {
     "name": "stdout",
     "output_type": "stream",
     "text": [
      "Number of unique userId values: 610\n"
     ]
    }
   ],
   "source": [
    "unique_user_ids = df2['userId'].nunique()\n",
    "\n",
    "\n",
    "print(\"Number of unique userId values:\", unique_user_ids)"
   ]
  },
  {
   "cell_type": "code",
   "execution_count": 5,
   "id": "dad4a6aa",
   "metadata": {},
   "outputs": [
    {
     "name": "stdout",
     "output_type": "stream",
     "text": [
      "Movie with the maximum number of ratings: Forrest Gump (1994)\n"
     ]
    }
   ],
   "source": [
    "# Merge the ratings and movies DataFrames on the 'movieId' column\n",
    "merged_df = pd.merge(df2, df, on='movieId')\n",
    "\n",
    "# Group by movie title and count the number of ratings for each movie\n",
    "ratings_count = merged_df.groupby('title')['rating'].count()\n",
    "\n",
    "# Find the movie with the maximum number of ratings\n",
    "max_ratings_movie = ratings_count.idxmax()\n",
    "\n",
    "# Print the result\n",
    "print(\"Movie with the maximum number of ratings:\", max_ratings_movie)"
   ]
  },
  {
   "cell_type": "code",
   "execution_count": 6,
   "id": "cd8fb708",
   "metadata": {},
   "outputs": [
    {
     "name": "stdout",
     "output_type": "stream",
     "text": [
      "Average user rating for 'Terminator 2: Judgment Day (1991)': 3.97\n"
     ]
    }
   ],
   "source": [
    "# Filter rows for the movie \"Terminator 2: Judgment Day (1991)\"\n",
    "movie_title = \"Terminator 2: Judgment Day (1991)\"\n",
    "movie_ratings = merged_df[merged_df['title'] == movie_title]['rating']\n",
    "\n",
    "# Calculate the average user rating for the movie\n",
    "average_rating = movie_ratings.mean()\n",
    "\n",
    "# Print the result\n",
    "print(f\"Average user rating for '{movie_title}': {average_rating:.2f}\")"
   ]
  },
  {
   "cell_type": "code",
   "execution_count": 7,
   "id": "5aac118c",
   "metadata": {},
   "outputs": [
    {
     "data": {
      "image/png": "[encoded data removed]",
      "text/plain": [
       "<Figure size 720x432 with 1 Axes>"
      ]
     },
     "metadata": {
      "needs_background": "light"
     },
     "output_type": "display_data"
    }
   ],
   "source": [
    "# Filter rows for the movie \"Fight Club (1999)\"\n",
    "movie_title = \"Fight Club (1999)\"\n",
    "movie_ratings = merged_df[merged_df['title'] == movie_title]['rating']\n",
    "\n",
    "# Plot the data distribution using a histogram\n",
    "plt.figure(figsize=(10, 6))\n",
    "plt.hist(movie_ratings, bins=5, edgecolor='black', color='skyblue')\n",
    "plt.title(f'Data Distribution of User Ratings for \"{movie_title}\"')\n",
    "plt.xlabel('Rating')\n",
    "plt.ylabel('Number of Users')\n",
    "plt.grid(axis='y', linestyle='--', alpha=0.7)\n",
    "plt.show()"
   ]
  },
  {
   "cell_type": "code",
   "execution_count": 8,
   "id": "d7254722",
   "metadata": {},
   "outputs": [
    {
     "name": "stdout",
     "output_type": "stream",
     "text": [
      "      movieId  rating_count  rating_mean                             title  \\\n",
      "0           1           215     3.920930                  Toy Story (1995)   \n",
      "1           2           110     3.431818                    Jumanji (1995)   \n",
      "2           3            52     3.259615           Grumpier Old Men (1995)   \n",
      "5           6           102     3.946078                       Heat (1995)   \n",
      "6           7            54     3.185185                    Sabrina (1995)   \n",
      "...       ...           ...          ...                               ...   \n",
      "8287   106782            54     3.916667   Wolf of Wall Street, The (2013)   \n",
      "8354   109374            52     3.778846  Grand Budapest Hotel, The (2014)   \n",
      "8358   109487            73     3.993151               Interstellar (2014)   \n",
      "8457   112852            59     4.050847    Guardians of the Galaxy (2014)   \n",
      "8673   122904            54     3.833333                   Deadpool (2016)   \n",
      "\n",
      "                                           genres  \n",
      "0     Adventure|Animation|Children|Comedy|Fantasy  \n",
      "1                      Adventure|Children|Fantasy  \n",
      "2                                  Comedy|Romance  \n",
      "5                           Action|Crime|Thriller  \n",
      "6                                  Comedy|Romance  \n",
      "...                                           ...  \n",
      "8287                           Comedy|Crime|Drama  \n",
      "8354                                 Comedy|Drama  \n",
      "8358                                  Sci-Fi|IMAX  \n",
      "8457                      Action|Adventure|Sci-Fi  \n",
      "8673               Action|Adventure|Comedy|Sci-Fi  \n",
      "\n",
      "[436 rows x 5 columns]\n"
     ]
    }
   ],
   "source": [
    "# Step 1: Group user ratings based on movieId and apply aggregation operations\n",
    "grouped_ratings = df2.groupby('movieId').agg({'rating': ['count', 'mean']}).reset_index()\n",
    "\n",
    "# Rename the columns for clarity\n",
    "grouped_ratings.columns = ['movieId', 'rating_count', 'rating_mean']\n",
    "\n",
    "# Step 2: Inner join with movies DataFrame\n",
    "merged_df = pd.merge(grouped_ratings, df, on='movieId', how='inner')\n",
    "\n",
    "# Step 3: Filter movies with more than 50 user ratings\n",
    "filtered_movies = merged_df[merged_df['rating_count'] > 50]\n",
    "\n",
    "# Display the resulting DataFrame\n",
    "print(filtered_movies)"
   ]
  },
  {
   "cell_type": "code",
   "execution_count": 9,
   "id": "e8011981",
   "metadata": {},
   "outputs": [
    {
     "name": "stdout",
     "output_type": "stream",
     "text": [
      "Most popular movie based on average user ratings:\n",
      "Title: Shawshank Redemption, The (1994)\n",
      "Average Rating: 4.429022082018927\n",
      "Number of Ratings: 317\n"
     ]
    }
   ],
   "source": [
    "# Find the movie with the highest average rating\n",
    "most_popular_movie = filtered_movies.loc[filtered_movies['rating_mean'].idxmax()]\n",
    "\n",
    "# Display the result\n",
    "print(\"Most popular movie based on average user ratings:\")\n",
    "print(\"Title:\", most_popular_movie['title'])\n",
    "print(\"Average Rating:\", most_popular_movie['rating_mean'])\n",
    "print(\"Number of Ratings:\", most_popular_movie['rating_count'])"
   ]
  },
  {
   "cell_type": "code",
   "execution_count": 10,
   "id": "e7ad62cd",
   "metadata": {},
   "outputs": [
    {
     "name": "stdout",
     "output_type": "stream",
     "text": [
      "Top 5 popular movies based on number of user ratings:\n",
      "                                 title  rating_count\n",
      "314                Forrest Gump (1994)           329\n",
      "277   Shawshank Redemption, The (1994)           317\n",
      "257                Pulp Fiction (1994)           307\n",
      "510   Silence of the Lambs, The (1991)           279\n",
      "1938                Matrix, The (1999)           278\n"
     ]
    }
   ],
   "source": [
    "# Sort the DataFrame by rating_count in descending order\n",
    "top_movies_by_ratings = filtered_movies.sort_values(by='rating_count', ascending=False).head(5)\n",
    "\n",
    "# Display the top 5 popular movies based on the number of user ratings\n",
    "print(\"Top 5 popular movies based on number of user ratings:\")\n",
    "print(top_movies_by_ratings[['title', 'rating_count']])"
   ]
  },
  {
   "cell_type": "code",
   "execution_count": 11,
   "id": "53eb457b",
   "metadata": {},
   "outputs": [
    {
     "name": "stdout",
     "output_type": "stream",
     "text": [
      "Third most popular Sci-Fi movie based on number of user ratings: Jurassic Park (1993)\n"
     ]
    }
   ],
   "source": [
    "# Filter only Sci-Fi movies\n",
    "sci_fi_movies = filtered_movies[filtered_movies['genres'].str.contains('Sci-Fi', case=False, na=False)]\n",
    "\n",
    "# Sort the Sci-Fi movies DataFrame by rating_count in descending order\n",
    "top_sci_fi_movies = sci_fi_movies.sort_values(by='rating_count', ascending=False)\n",
    "\n",
    "# Find the title of the third most popular Sci-Fi movie\n",
    "third_most_popular_sci_fi_movie = top_sci_fi_movies.iloc[2]['title']\n",
    "\n",
    "# Display the result\n",
    "print(\"Third most popular Sci-Fi movie based on number of user ratings:\", third_most_popular_sci_fi_movie)"
   ]
  },
  {
   "cell_type": "code",
   "execution_count": null,
   "id": "7a6d84ea",
   "metadata": {
    "scrolled": true
   },
   "outputs": [],
   "source": [
    "import requests\n",
    "import numpy as np\n",
    "from bs4 import BeautifulSoup\n",
    "\n",
    "def scrapper(imdbId):\n",
    "    id = str(int(imdbId))\n",
    "    n_zeroes = 7 - len(id)\n",
    "    new_id = \"0\" * n_zeroes + id\n",
    "    URL = f\"https://www.imdb.com/title/tt{new_id}/\"\n",
    "    \n",
    "    # Set up the request headers\n",
    "    request_header = {\n",
    "        'Content-Type': 'text/html; charset=UTF-8',\n",
    "        'User-Agent': 'Mozilla/5.0 (Windows NT 10.0; Win64; x64; rv:109.0) Gecko/20100101 Firefox/119.0',\n",
    "        'Accept-Encoding': 'gzip, deflate, br'\n",
    "    }\n",
    "    \n",
    "    # Send the request and get the response\n",
    "    response = requests.get(URL, headers=request_header)\n",
    "    \n",
    "    # Create a BeautifulSoup object to parse the HTML\n",
    "    soup = BeautifulSoup(response.text, 'html.parser')\n",
    "    \n",
    "    # Find the IMDb rating on the page\n",
    "    imdb_rating = soup.find('span', attrs={'data-testid': 'hero-rating-bar__aggregate-rating__score'})\n",
    "    \n",
    "    return imdb_rating.text if imdb_rating else np.nan\n"
   ]
  },
  {
   "cell_type": "code",
   "execution_count": null,
   "id": "763adbcf",
   "metadata": {},
   "outputs": [],
   "source": [
    "\n",
    "file_path3 = r\"C:\\Users\\samvi\\OneDrive\\Desktop\\samvidhaa\\movie_data\\links.csv\"\n",
    "\n",
    "# Load the CSV file into a DataFrame\n",
    "df_links = pd.read_csv(file_path3)\n"
   ]
  },
  {
   "cell_type": "code",
   "execution_count": null,
   "id": "d8896822",
   "metadata": {},
   "outputs": [],
   "source": [
    "# Apply the scrapper function to get IMDb ratings for each movie in the DataFrame\n",
    "filtered_movies['imdb_rating'] = filtered_movies['movieId'].apply(scrapper)\n",
    "\n",
    "# Find the movieId with the highest IMDb rating\n",
    "highest_rated_movieId = filtered_movies.loc[filtered_movies['imdb_rating'].idxmax()]['movieId']\n",
    "\n",
    "print(\"MovieId of the movie with the highest IMDb rating:\", highest_rated_movieId)\n"
   ]
  },
  {
   "cell_type": "code",
   "execution_count": null,
   "id": "e99657fd",
   "metadata": {},
   "outputs": [],
   "source": []
  }
 ],
 "metadata": {
  "kernelspec": {
   "display_name": "Python 3 (ipykernel)",
   "language": "python",
   "name": "python3"
  },
  "language_info": {
   "codemirror_mode": {
    "name": "ipython",
    "version": 3
   },
   "file_extension": ".py",
   "mimetype": "text/x-python",
   "name": "python",
   "nbconvert_exporter": "python",
   "pygments_lexer": "ipython3",
   "version": "3.9.12"
  }
 },
 "nbformat": 4,
 "nbformat_minor": 5
}
